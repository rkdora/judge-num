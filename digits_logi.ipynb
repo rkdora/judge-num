{
 "cells": [
  {
   "cell_type": "code",
   "execution_count": 1,
   "metadata": {},
   "outputs": [],
   "source": [
    "import numpy as np\n",
    "import matplotlib.pyplot as plt\n",
    "from sklearn.datasets import load_digits"
   ]
  },
  {
   "cell_type": "code",
   "execution_count": 2,
   "metadata": {},
   "outputs": [],
   "source": [
    "digits = load_digits()"
   ]
  },
  {
   "cell_type": "code",
   "execution_count": 3,
   "metadata": {},
   "outputs": [
    {
     "data": {
      "text/plain": [
       "{'data': array([[ 0.,  0.,  5., ...,  0.,  0.,  0.],\n",
       "        [ 0.,  0.,  0., ..., 10.,  0.,  0.],\n",
       "        [ 0.,  0.,  0., ..., 16.,  9.,  0.],\n",
       "        ...,\n",
       "        [ 0.,  0.,  1., ...,  6.,  0.,  0.],\n",
       "        [ 0.,  0.,  2., ..., 12.,  0.,  0.],\n",
       "        [ 0.,  0., 10., ..., 12.,  1.,  0.]]),\n",
       " 'target': array([0, 1, 2, ..., 8, 9, 8]),\n",
       " 'target_names': array([0, 1, 2, 3, 4, 5, 6, 7, 8, 9]),\n",
       " 'images': array([[[ 0.,  0.,  5., ...,  1.,  0.,  0.],\n",
       "         [ 0.,  0., 13., ..., 15.,  5.,  0.],\n",
       "         [ 0.,  3., 15., ..., 11.,  8.,  0.],\n",
       "         ...,\n",
       "         [ 0.,  4., 11., ..., 12.,  7.,  0.],\n",
       "         [ 0.,  2., 14., ..., 12.,  0.,  0.],\n",
       "         [ 0.,  0.,  6., ...,  0.,  0.,  0.]],\n",
       " \n",
       "        [[ 0.,  0.,  0., ...,  5.,  0.,  0.],\n",
       "         [ 0.,  0.,  0., ...,  9.,  0.,  0.],\n",
       "         [ 0.,  0.,  3., ...,  6.,  0.,  0.],\n",
       "         ...,\n",
       "         [ 0.,  0.,  1., ...,  6.,  0.,  0.],\n",
       "         [ 0.,  0.,  1., ...,  6.,  0.,  0.],\n",
       "         [ 0.,  0.,  0., ..., 10.,  0.,  0.]],\n",
       " \n",
       "        [[ 0.,  0.,  0., ..., 12.,  0.,  0.],\n",
       "         [ 0.,  0.,  3., ..., 14.,  0.,  0.],\n",
       "         [ 0.,  0.,  8., ..., 16.,  0.,  0.],\n",
       "         ...,\n",
       "         [ 0.,  9., 16., ...,  0.,  0.,  0.],\n",
       "         [ 0.,  3., 13., ..., 11.,  5.,  0.],\n",
       "         [ 0.,  0.,  0., ..., 16.,  9.,  0.]],\n",
       " \n",
       "        ...,\n",
       " \n",
       "        [[ 0.,  0.,  1., ...,  1.,  0.,  0.],\n",
       "         [ 0.,  0., 13., ...,  2.,  1.,  0.],\n",
       "         [ 0.,  0., 16., ..., 16.,  5.,  0.],\n",
       "         ...,\n",
       "         [ 0.,  0., 16., ..., 15.,  0.,  0.],\n",
       "         [ 0.,  0., 15., ..., 16.,  0.,  0.],\n",
       "         [ 0.,  0.,  2., ...,  6.,  0.,  0.]],\n",
       " \n",
       "        [[ 0.,  0.,  2., ...,  0.,  0.,  0.],\n",
       "         [ 0.,  0., 14., ..., 15.,  1.,  0.],\n",
       "         [ 0.,  4., 16., ..., 16.,  7.,  0.],\n",
       "         ...,\n",
       "         [ 0.,  0.,  0., ..., 16.,  2.,  0.],\n",
       "         [ 0.,  0.,  4., ..., 16.,  2.,  0.],\n",
       "         [ 0.,  0.,  5., ..., 12.,  0.,  0.]],\n",
       " \n",
       "        [[ 0.,  0., 10., ...,  1.,  0.,  0.],\n",
       "         [ 0.,  2., 16., ...,  1.,  0.,  0.],\n",
       "         [ 0.,  0., 15., ..., 15.,  0.,  0.],\n",
       "         ...,\n",
       "         [ 0.,  4., 16., ..., 16.,  6.,  0.],\n",
       "         [ 0.,  8., 16., ..., 16.,  8.,  0.],\n",
       "         [ 0.,  1.,  8., ..., 12.,  1.,  0.]]]),\n",
       " 'DESCR': \".. _digits_dataset:\\n\\nOptical recognition of handwritten digits dataset\\n--------------------------------------------------\\n\\n**Data Set Characteristics:**\\n\\n    :Number of Instances: 5620\\n    :Number of Attributes: 64\\n    :Attribute Information: 8x8 image of integer pixels in the range 0..16.\\n    :Missing Attribute Values: None\\n    :Creator: E. Alpaydin (alpaydin '@' boun.edu.tr)\\n    :Date: July; 1998\\n\\nThis is a copy of the test set of the UCI ML hand-written digits datasets\\nhttp://archive.ics.uci.edu/ml/datasets/Optical+Recognition+of+Handwritten+Digits\\n\\nThe data set contains images of hand-written digits: 10 classes where\\neach class refers to a digit.\\n\\nPreprocessing programs made available by NIST were used to extract\\nnormalized bitmaps of handwritten digits from a preprinted form. From a\\ntotal of 43 people, 30 contributed to the training set and different 13\\nto the test set. 32x32 bitmaps are divided into nonoverlapping blocks of\\n4x4 and the number of on pixels are counted in each block. This generates\\nan input matrix of 8x8 where each element is an integer in the range\\n0..16. This reduces dimensionality and gives invariance to small\\ndistortions.\\n\\nFor info on NIST preprocessing routines, see M. D. Garris, J. L. Blue, G.\\nT. Candela, D. L. Dimmick, J. Geist, P. J. Grother, S. A. Janet, and C.\\nL. Wilson, NIST Form-Based Handprint Recognition System, NISTIR 5469,\\n1994.\\n\\n.. topic:: References\\n\\n  - C. Kaynak (1995) Methods of Combining Multiple Classifiers and Their\\n    Applications to Handwritten Digit Recognition, MSc Thesis, Institute of\\n    Graduate Studies in Science and Engineering, Bogazici University.\\n  - E. Alpaydin, C. Kaynak (1998) Cascading Classifiers, Kybernetika.\\n  - Ken Tang and Ponnuthurai N. Suganthan and Xi Yao and A. Kai Qin.\\n    Linear dimensionalityreduction using relevance weighted LDA. School of\\n    Electrical and Electronic Engineering Nanyang Technological University.\\n    2005.\\n  - Claudio Gentile. A New Approximate Maximal Margin Classification\\n    Algorithm. NIPS. 2000.\"}"
      ]
     },
     "execution_count": 3,
     "metadata": {},
     "output_type": "execute_result"
    }
   ],
   "source": [
    "digits"
   ]
  },
  {
   "cell_type": "code",
   "execution_count": 4,
   "metadata": {},
   "outputs": [],
   "source": [
    "X = digits.data\n",
    "y = digits.target"
   ]
  },
  {
   "cell_type": "code",
   "execution_count": 5,
   "metadata": {},
   "outputs": [
    {
     "data": {
      "text/plain": [
       "(1797, 64)"
      ]
     },
     "execution_count": 5,
     "metadata": {},
     "output_type": "execute_result"
    }
   ],
   "source": [
    "X.shape"
   ]
  },
  {
   "cell_type": "code",
   "execution_count": 6,
   "metadata": {},
   "outputs": [
    {
     "data": {
      "text/plain": [
       "array([[ 0.,  0.,  5., ...,  0.,  0.,  0.],\n",
       "       [ 0.,  0.,  0., ..., 10.,  0.,  0.],\n",
       "       [ 0.,  0.,  0., ..., 16.,  9.,  0.],\n",
       "       ...,\n",
       "       [ 0.,  0.,  1., ...,  6.,  0.,  0.],\n",
       "       [ 0.,  0.,  2., ..., 12.,  0.,  0.],\n",
       "       [ 0.,  0., 10., ..., 12.,  1.,  0.]])"
      ]
     },
     "execution_count": 6,
     "metadata": {},
     "output_type": "execute_result"
    }
   ],
   "source": [
    "X"
   ]
  },
  {
   "cell_type": "code",
   "execution_count": 7,
   "metadata": {},
   "outputs": [
    {
     "data": {
      "image/png": "[encoded data removed]",
      "text/plain": [
       "<Figure size 1080x432 with 10 Axes>"
      ]
     },
     "metadata": {
      "needs_background": "light"
     },
     "output_type": "display_data"
    }
   ],
   "source": [
    "images_with_labels = list(zip(digits.images, digits.target))\n",
    "plt.figure(figsize=(15, 6))\n",
    "\n",
    "for idx, (image, label) in enumerate(images_with_labels[:10]):\n",
    "    plt.subplot(2, 5, idx + 1)\n",
    "    plt.imshow(image, cmap=plt.cm.gray_r, interpolation='nearest')\n",
    "    plt.axis('off')\n",
    "    plt.title('{}'.format(label), fontsize=25)\n",
    "    \n",
    "plt.show()"
   ]
  },
  {
   "cell_type": "code",
   "execution_count": 8,
   "metadata": {},
   "outputs": [
    {
     "data": {
      "text/plain": [
       "(1797, 8, 8)"
      ]
     },
     "execution_count": 8,
     "metadata": {},
     "output_type": "execute_result"
    }
   ],
   "source": [
    "digits.images.shape"
   ]
  },
  {
   "cell_type": "code",
   "execution_count": 9,
   "metadata": {},
   "outputs": [],
   "source": [
    "from sklearn.model_selection import train_test_split\n",
    "# from sklearn.preprocessing import StandardScaler\n",
    "from sklearn.linear_model import LogisticRegression"
   ]
  },
  {
   "cell_type": "code",
   "execution_count": 10,
   "metadata": {},
   "outputs": [],
   "source": [
    "X_train, X_test, y_train, y_test = train_test_split(X, y, random_state=0) "
   ]
  },
  {
   "cell_type": "code",
   "execution_count": 11,
   "metadata": {},
   "outputs": [],
   "source": [
    "# 標準化\n",
    "# scaler = StandardScaler()\n",
    "# X_train_scaled = scaler.fit_transform(X_train)\n",
    "# X_test_scaled = scaler.fit_transform(X_test)"
   ]
  },
  {
   "cell_type": "code",
   "execution_count": 12,
   "metadata": {},
   "outputs": [
    {
     "name": "stderr",
     "output_type": "stream",
     "text": [
      "/Users/ryuto/anaconda3/lib/python3.7/site-packages/sklearn/linear_model/logistic.py:433: FutureWarning: Default solver will be changed to 'lbfgs' in 0.22. Specify a solver to silence this warning.\n",
      "  FutureWarning)\n",
      "/Users/ryuto/anaconda3/lib/python3.7/site-packages/sklearn/linear_model/logistic.py:460: FutureWarning: Default multi_class will be changed to 'auto' in 0.22. Specify the multi_class option to silence this warning.\n",
      "  \"this warning.\", FutureWarning)\n"
     ]
    }
   ],
   "source": [
    "# log_reg = LogisticRegression().fit(X_train_scaled, y_train)\n",
    "log_reg = LogisticRegression().fit(X_train, y_train)"
   ]
  },
  {
   "cell_type": "code",
   "execution_count": 13,
   "metadata": {},
   "outputs": [
    {
     "data": {
      "text/plain": [
       "(array([-0.02262176, -2.41724719, -0.02573874, -0.15671237,  0.01927781,\n",
       "        -0.04661683, -0.06110565, -0.02042798, -2.60018836, -0.84797819]),\n",
       " array([[ 0.00000000e+00, -3.82306881e-02, -9.96057335e-02,\n",
       "          9.47653329e-02, -1.37333025e-01, -3.08765500e-01,\n",
       "         -2.43909611e-01, -2.93687402e-02, -1.72100248e-05,\n",
       "         -1.15081259e-01, -5.44334381e-02,  1.64425094e-01,\n",
       "          1.88781687e-01,  2.50535582e-01, -5.38328426e-02,\n",
       "         -2.14546606e-02, -4.39437258e-06,  7.02893745e-02,\n",
       "          1.36383810e-01, -1.58758511e-01, -3.52504186e-01,\n",
       "          3.21851424e-01, -1.50431049e-03, -3.20613239e-03,\n",
       "         -1.23801035e-06,  4.12976035e-02, -4.28328354e-02,\n",
       "         -1.30596559e-01, -5.56745750e-01,  1.44238766e-02,\n",
       "          2.88744367e-02, -2.68234230e-04,  0.00000000e+00,\n",
       "          1.56974852e-01,  5.77056023e-02, -1.81463743e-01,\n",
       "         -5.77166692e-01, -1.33848933e-02, -4.25556767e-02,\n",
       "          0.00000000e+00, -2.08820059e-03, -1.01120360e-01,\n",
       "          2.86859504e-01, -2.69048440e-01, -2.85233468e-01,\n",
       "          4.08282525e-02,  4.87699014e-02, -1.44814022e-04,\n",
       "         -2.19247552e-03, -1.19857009e-01,  2.95316461e-02,\n",
       "          1.58913023e-02,  1.64838917e-01,  1.93970460e-02,\n",
       "         -7.20179515e-02, -1.12862712e-02, -6.79278732e-06,\n",
       "         -4.30455979e-02, -2.42125436e-01,  1.15610127e-01,\n",
       "         -3.46797593e-01, -1.85237802e-01, -9.23082160e-02,\n",
       "         -3.18533183e-02],\n",
       "        [ 0.00000000e+00, -8.72298182e-02,  7.92802536e-02,\n",
       "          7.11629009e-02, -8.92315708e-01,  6.44468436e-01,\n",
       "         -1.23916268e-01, -2.45277099e-01, -3.18311956e-06,\n",
       "         -1.56434052e+00, -4.72113618e-01, -4.55374193e-01,\n",
       "          6.17590406e-02, -8.94906660e-02, -6.37908614e-01,\n",
       "         -1.30188239e-02, -2.75389581e-06,  6.27263797e-01,\n",
       "          1.04979145e-01,  6.81906692e-01,  5.28402539e-01,\n",
       "         -3.30931978e-01,  4.45079602e-01, -5.42448674e-02,\n",
       "         -4.91206802e-01, -2.60246709e-01, -1.05134873e-01,\n",
       "          1.63765536e-01, -5.87097373e-02,  2.52576193e-01,\n",
       "         -5.66295895e-01, -4.77251624e-07,  0.00000000e+00,\n",
       "          2.10226052e-01, -3.87782115e-03, -1.09801105e-01,\n",
       "          2.52290055e-01, -1.21043369e-01, -2.81846459e-01,\n",
       "          0.00000000e+00, -1.08576088e-03, -8.06323442e-01,\n",
       "         -7.73809940e-02, -1.67178148e-01,  2.28501865e-02,\n",
       "         -3.24540270e-01, -1.49636854e-01, -2.55065875e-01,\n",
       "         -2.16600975e-02, -6.11022307e-02,  1.37003096e-01,\n",
       "          2.81783261e-01,  9.61567032e-02,  1.29188186e-01,\n",
       "         -3.55331090e-01,  3.08494476e-02, -7.21940555e-03,\n",
       "         -1.00135413e-01, -2.20564318e-01, -1.06949372e-02,\n",
       "          9.70438647e-02, -4.40983569e-02, -1.42057901e-01,\n",
       "          1.12455601e-01],\n",
       "        [ 0.00000000e+00,  3.79463917e-02, -4.70923547e-02,\n",
       "          8.80367976e-02, -4.98427875e-02, -1.90415590e-01,\n",
       "         -9.66616019e-02, -4.89230200e-03, -1.98620984e-04,\n",
       "          4.14573930e-02,  1.99695921e-01, -1.24422421e-01,\n",
       "          1.46429292e-01, -6.53127413e-02,  6.65773488e-02,\n",
       "         -2.59896484e-03,  2.53936637e-04, -5.08485605e-02,\n",
       "          4.50067519e-02, -2.67567143e-01,  1.84464504e-01,\n",
       "          5.98687790e-02,  1.26926658e-01, -1.84651877e-04,\n",
       "         -3.92664677e-06, -2.21829574e-01, -4.99066611e-01,\n",
       "         -5.06972357e-01, -2.40709006e-01,  1.12405754e-01,\n",
       "         -7.71572597e-02, -4.93069038e-06,  0.00000000e+00,\n",
       "         -3.15617826e-01, -3.99500516e-01, -4.80693307e-02,\n",
       "         -2.83927354e-01, -2.91880636e-01, -4.73085591e-01,\n",
       "          0.00000000e+00, -5.62864442e-05,  5.71932239e-02,\n",
       "          3.46954488e-02,  4.16238847e-01, -3.84374097e-01,\n",
       "         -3.79418540e-01, -4.42214372e-01,  1.78199116e-02,\n",
       "          6.47599811e-03,  3.28899331e-01, -2.55291082e-02,\n",
       "          2.65566112e-01,  2.64451796e-01,  2.74204202e-01,\n",
       "          2.08444476e-01,  1.18676086e-01,  2.17222600e-03,\n",
       "          9.36648876e-02, -9.61423355e-03, -4.32789694e-02,\n",
       "         -9.18473595e-02,  2.58735014e-01,  2.77455374e-01,\n",
       "         -1.49684215e-02],\n",
       "        [ 0.00000000e+00,  4.67312627e-01, -7.74059012e-01,\n",
       "         -4.29538169e-02,  4.35552609e-01, -1.73442889e-01,\n",
       "         -3.44111380e-01, -4.83042111e-03, -4.07635956e-02,\n",
       "         -1.65155871e-01, -1.54089626e-01,  1.01709426e-01,\n",
       "         -2.77298701e-02,  6.19603308e-01,  4.23979126e-01,\n",
       "         -6.35390435e-03, -3.65050554e-05, -7.05782733e-04,\n",
       "         -4.71587421e-01, -5.73183347e-01,  3.04684926e-01,\n",
       "         -5.31417248e-01,  1.86964278e-01, -1.52039775e-03,\n",
       "         -1.30241937e-07, -5.02722290e-01, -6.78291929e-01,\n",
       "         -4.31666136e-02, -2.50919608e-02, -5.26197364e-01,\n",
       "         -1.31048868e+00, -4.14532032e-07,  0.00000000e+00,\n",
       "         -1.81526084e-01, -3.21024002e-01,  1.50726381e-01,\n",
       "         -3.21141477e-01, -1.83450594e-01, -3.30945278e-01,\n",
       "          0.00000000e+00, -2.44439808e-06,  3.12631786e-02,\n",
       "         -3.17660135e-01, -1.01922626e+00,  3.11799272e-01,\n",
       "          1.09558376e+00,  6.23217847e-01, -2.80210167e-02,\n",
       "         -3.66761862e-06, -4.44480856e-01, -2.89494733e-02,\n",
       "         -1.83403939e-01,  1.74033533e-01, -3.61734858e-01,\n",
       "          8.18105880e-01, -5.53052188e-01, -4.60057363e-07,\n",
       "         -2.17979546e-02,  7.62834756e-01, -1.00198363e-01,\n",
       "          4.46312978e-01, -3.62668042e-01, -1.31211438e-01,\n",
       "         -8.57879890e-01],\n",
       "        [ 0.00000000e+00, -3.57114025e-02, -1.14595821e-01,\n",
       "         -6.23320571e-01, -2.84698094e-01, -2.84367924e-01,\n",
       "         -3.47427076e-01,  9.95794227e-02, -8.76277511e-06,\n",
       "         -8.69448168e-02, -1.39298313e-01, -3.57914338e-01,\n",
       "         -4.54030237e-01, -3.43299136e-01, -3.35620353e-01,\n",
       "          1.70738739e-01, -9.11666843e-07,  2.22957730e-01,\n",
       "          2.78504074e-01,  1.73974254e-01, -6.38347772e-02,\n",
       "          1.34958784e-01, -6.49489492e-02,  1.02612559e-01,\n",
       "          4.34424829e-02, -9.03199692e-02,  2.92860223e-01,\n",
       "          2.19341487e-02, -4.42346896e-02,  1.40832526e-01,\n",
       "          4.21040105e-01,  1.74258939e-03,  0.00000000e+00,\n",
       "          2.12351045e-01,  6.39393933e-02, -1.63904392e-02,\n",
       "          3.15411948e-01,  8.11272132e-02,  4.04471491e-01,\n",
       "          0.00000000e+00,  3.79419448e-04,  3.24613493e-01,\n",
       "         -2.08763083e-01,  4.85976593e-01,  1.85884821e-01,\n",
       "          1.28608902e-01,  1.74891132e-02, -2.35511093e-03,\n",
       "         -4.46103706e-04,  2.93464079e-01, -7.76675046e-02,\n",
       "          1.13587704e-01,  1.53464694e-01, -3.75387393e-01,\n",
       "         -4.50611238e-01, -2.03497804e-03, -5.34137415e-04,\n",
       "         -8.26376974e-03, -4.56123959e-02, -2.65290848e-01,\n",
       "         -1.61755956e-01, -2.68977053e-01, -1.12111804e-01,\n",
       "         -6.57116487e-03],\n",
       "        [ 0.00000000e+00,  5.26957308e-02,  5.24324561e-01,\n",
       "         -3.52201059e-01, -6.48614147e-04,  2.78470964e-01,\n",
       "          6.96517072e-01, -2.21832415e-01,  5.69689865e-03,\n",
       "          1.82598377e-02,  2.56148013e-01,  1.46597307e-01,\n",
       "          1.34133524e-01, -1.62340199e-01, -3.64583557e-01,\n",
       "         -1.14050858e-01, -3.20193418e-05, -8.39552778e-02,\n",
       "          2.35271119e-01,  5.52790710e-02, -5.50459839e-01,\n",
       "         -7.99218639e-01, -8.25709083e-01, -1.36932214e-02,\n",
       "         -2.73811392e-02,  1.37535886e-01,  3.31254255e-01,\n",
       "         -2.73555698e-01,  4.51225005e-01,  2.22106677e-02,\n",
       "         -8.82474034e-01, -1.76505945e-06,  0.00000000e+00,\n",
       "         -5.24620773e-01,  1.32314131e-01, -1.10583666e-01,\n",
       "         -2.32619813e-01, -2.60195641e-01,  1.40778815e-01,\n",
       "          0.00000000e+00,  3.22768158e-05, -2.56177918e-01,\n",
       "         -2.20511822e-01, -4.55496528e-01, -2.47651575e-01,\n",
       "          1.87957685e-01, -2.68746252e-02, -1.48269437e-03,\n",
       "          2.48359571e-05,  1.47490613e-01, -1.79763147e-01,\n",
       "          3.13832128e-02,  1.27395768e-02, -2.15304897e-01,\n",
       "         -2.78011996e-01, -3.99031428e-02,  2.86010929e-06,\n",
       "          4.19448261e-03,  2.54375966e-01,  1.08875344e-01,\n",
       "         -2.30180885e-01, -2.11748758e-02, -1.91883829e-01,\n",
       "         -1.30172288e-01],\n",
       "        [ 0.00000000e+00, -2.77357030e-02, -2.18629657e-01,\n",
       "          1.15187735e-01, -2.84072444e-01, -2.02037085e-01,\n",
       "          4.01289299e-02, -3.51880758e-04, -2.53823677e-05,\n",
       "         -2.44586704e-01, -1.92668308e-01, -2.48392688e-01,\n",
       "         -4.25624642e-01,  2.73548904e-02,  2.23126426e-01,\n",
       "         -2.54720533e-04, -3.12185008e-06, -1.50137813e-01,\n",
       "          2.38608030e-01,  4.02226649e-02, -3.88648004e-01,\n",
       "         -8.14858796e-01, -1.49043554e-01, -3.80127757e-04,\n",
       "         -1.31738695e-06,  3.36261651e-01, -2.37856214e-01,\n",
       "          3.50370167e-01, -1.69713044e-01, -2.74672017e-01,\n",
       "         -4.92498283e-01, -1.20143037e-05,  0.00000000e+00,\n",
       "          1.52015020e-02,  3.14367753e-01,  3.76859266e-01,\n",
       "         -1.88840818e-01, -1.88904154e-02,  3.70109918e-02,\n",
       "          0.00000000e+00, -1.56177716e-04, -6.62109871e-01,\n",
       "          5.40769934e-01, -1.10835787e-01,  1.42926764e-01,\n",
       "          1.51214564e-01,  4.05742090e-01,  1.43671716e-01,\n",
       "         -1.08852777e-04, -2.94116130e-01,  3.22351460e-01,\n",
       "          2.44640906e-01, -3.98645376e-01,  2.25296774e-01,\n",
       "          2.27455510e-03, -2.00447463e-01, -5.23339548e-07,\n",
       "         -3.39362846e-02, -4.32560240e-01, -3.27895896e-01,\n",
       "         -9.11058125e-02, -1.07995842e-02, -1.85083973e-01,\n",
       "         -1.65233386e-01],\n",
       "        [ 0.00000000e+00, -1.58625158e-01,  8.94143669e-02,\n",
       "          7.20217719e-02,  4.30704107e-03,  3.13514778e-01,\n",
       "          3.83419407e-01,  1.49679501e-01, -8.88512789e-06,\n",
       "          1.06391078e-01,  2.38011728e-01, -4.77757219e-02,\n",
       "          6.07572589e-01, -1.39784480e-01, -3.12619986e-01,\n",
       "          1.12274482e-01, -2.39162625e-06, -5.49675601e-01,\n",
       "         -2.27374637e-01, -3.35283632e-01,  5.65850413e-02,\n",
       "          3.22829903e-01,  1.24222122e-01,  2.53683541e-02,\n",
       "         -1.92055686e-06, -2.55395110e-01, -8.40398272e-02,\n",
       "         -4.70935310e-01, -2.62061624e-01,  1.67599574e-02,\n",
       "          1.12622325e-01, -1.94627249e-06,  0.00000000e+00,\n",
       "         -1.53853986e-01, -7.78317612e-02,  8.19970373e-02,\n",
       "          1.86080634e-01,  3.34258204e-01, -8.15326346e-02,\n",
       "          0.00000000e+00, -2.95778862e-05, -1.87490129e-01,\n",
       "          8.99767061e-02,  1.36810322e-02,  1.14555332e-01,\n",
       "         -2.19088522e-02,  1.18502458e-01, -2.26768410e-05,\n",
       "         -2.16083129e-05, -2.05369747e-01,  5.61946223e-02,\n",
       "          1.17157635e-01, -5.69820511e-01, -7.88040350e-01,\n",
       "         -1.27705774e-01, -3.17223985e-04, -4.58082684e-06,\n",
       "         -3.48287774e-01, -2.55159432e-01, -2.58124088e-01,\n",
       "         -2.37692828e-01, -5.87676866e-01, -1.98221418e-01,\n",
       "         -4.15046749e-03],\n",
       "        [ 0.00000000e+00, -1.42377557e-01,  1.02044275e-01,\n",
       "         -2.03568718e-01,  5.45637504e-03, -2.85584811e-02,\n",
       "         -5.98152539e-01, -3.98290652e-02,  8.78800428e-01,\n",
       "         -3.12427967e-02,  1.96049274e-01,  6.85463351e-03,\n",
       "         -1.73004411e-01,  1.59756616e-01,  2.54299488e-01,\n",
       "         -1.76283099e-01,  4.47802727e-01,  6.79744490e-02,\n",
       "          1.74402199e-01,  1.01466678e-01,  1.01136030e-02,\n",
       "          5.50131965e-02,  7.83816900e-02, -2.03308910e-01,\n",
       "         -1.02256330e-03, -6.06962012e-02, -4.63903086e-02,\n",
       "          1.38311278e-01, -9.25398253e-02,  8.90495446e-03,\n",
       "          1.62140862e-02, -2.35867201e-04,  0.00000000e+00,\n",
       "         -4.19505697e-01, -1.62763822e-01,  2.78078179e-01,\n",
       "         -4.78363056e-02, -9.35133618e-02, -1.17056518e+00,\n",
       "          0.00000000e+00, -1.26113865e-03,  1.98959714e-01,\n",
       "          1.36024248e-01,  2.84005020e-02,  5.07313214e-02,\n",
       "          4.87140990e-02,  1.95569934e-01, -5.49424580e-02,\n",
       "         -3.26811545e-02, -8.87229806e-02,  1.35965240e-01,\n",
       "         -2.07143227e-01, -1.95267041e-01,  1.19570461e-01,\n",
       "         -9.41425872e-02, -4.37559504e-01, -1.08500568e-02,\n",
       "         -8.54836379e-02, -4.00730174e-01, -7.30328509e-02,\n",
       "          5.14323147e-02, -2.16601337e-01, -4.47081786e-02,\n",
       "         -6.60907873e-02],\n",
       "        [ 0.00000000e+00, -6.94011272e-01, -1.28082406e-01,\n",
       "          3.76843603e-01,  6.58256865e-02, -2.83683903e-01,\n",
       "          3.75409161e-02, -2.94551988e-01, -1.74195061e-04,\n",
       "          5.13033787e-02,  5.21300659e-02, -2.90533204e-02,\n",
       "          1.30760135e-02,  5.54865954e-03,  1.72990578e-01,\n",
       "         -4.83569654e-01, -4.78483896e-06,  2.98770036e-01,\n",
       "          2.68665607e-01,  2.33734120e-01,  1.50918098e-01,\n",
       "          5.82825208e-01,  1.41743460e-01, -4.14119564e-01,\n",
       "         -3.71020383e-07, -2.68549800e-01,  1.73147974e-01,\n",
       "          2.53052441e-01, -4.46614021e-02,  3.51852128e-01,\n",
       "         -3.56655351e-01, -5.07877555e-04,  0.00000000e+00,\n",
       "         -7.68253173e-01, -1.73310419e-01,  5.12601302e-01,\n",
       "         -3.25323000e-01, -2.07044213e-01, -1.20959612e-01,\n",
       "          0.00000000e+00, -4.06879758e-06, -8.36625237e-02,\n",
       "         -7.09215673e-01, -1.37814048e+00, -7.92341402e-01,\n",
       "         -3.53274205e-01, -2.75843155e-01,  1.75339121e-03,\n",
       "         -5.78809136e-06,  1.50821978e-02,  1.91531326e-02,\n",
       "          4.21714690e-02, -6.56365898e-02, -3.68300390e-01,\n",
       "         -2.21607340e-01,  6.09647880e-01, -6.65100412e-07,\n",
       "         -3.06052907e-01, -3.25690570e-01, -1.13094142e-01,\n",
       "         -2.73371034e-02,  9.86550636e-03, -2.07169707e-01,\n",
       "         -2.75474328e-01]]))"
      ]
     },
     "execution_count": 13,
     "metadata": {},
     "output_type": "execute_result"
    }
   ],
   "source": [
    "# intercept_ 切片, coef_ 回帰変数\n",
    "log_reg.intercept_, log_reg.coef_"
   ]
  },
  {
   "cell_type": "code",
   "execution_count": 14,
   "metadata": {},
   "outputs": [
    {
     "data": {
      "text/plain": [
       "(10,)"
      ]
     },
     "execution_count": 14,
     "metadata": {},
     "output_type": "execute_result"
    }
   ],
   "source": [
    "log_reg.intercept_.shape"
   ]
  },
  {
   "cell_type": "code",
   "execution_count": 15,
   "metadata": {},
   "outputs": [
    {
     "data": {
      "text/plain": [
       "(10, 64)"
      ]
     },
     "execution_count": 15,
     "metadata": {},
     "output_type": "execute_result"
    }
   ],
   "source": [
    "log_reg.coef_.shape"
   ]
  },
  {
   "cell_type": "code",
   "execution_count": 16,
   "metadata": {},
   "outputs": [
    {
     "data": {
      "text/plain": [
       "array([2, 8, 2, 6, 6, 7, 1, 9, 8, 5, 2, 8, 6, 6, 6, 6, 1, 0, 5, 8, 8, 7,\n",
       "       8, 4, 7, 5, 4, 9, 2, 9, 4, 7, 6, 8, 9, 4, 3, 8, 0, 1, 8, 6, 7, 7,\n",
       "       1, 0, 7, 6, 2, 1, 9, 6, 7, 9, 0, 0, 5, 1, 6, 3, 0, 2, 3, 4, 1, 9,\n",
       "       2, 6, 9, 1, 8, 3, 5, 1, 2, 8, 2, 2, 9, 7, 2, 3, 6, 0, 5, 3, 7, 5,\n",
       "       1, 2, 9, 9, 3, 1, 4, 7, 4, 8, 5, 8, 5, 5, 2, 5, 9, 0, 7, 1, 4, 1,\n",
       "       3, 4, 8, 9, 7, 9, 8, 2, 6, 5, 2, 5, 8, 4, 1, 7, 0, 6, 1, 5, 5, 9,\n",
       "       9, 5, 9, 9, 5, 7, 5, 6, 2, 8, 6, 9, 6, 1, 5, 1, 5, 9, 9, 1, 5, 3,\n",
       "       6, 1, 8, 9, 8, 7, 6, 7, 6, 5, 6, 0, 8, 8, 9, 8, 6, 1, 0, 4, 1, 6,\n",
       "       3, 8, 6, 7, 4, 1, 6, 3, 0, 3, 3, 3, 0, 7, 7, 5, 7, 8, 0, 7, 1, 9,\n",
       "       6, 4, 5, 0, 1, 4, 6, 4, 3, 3, 0, 9, 5, 3, 2, 1, 4, 2, 1, 6, 9, 9,\n",
       "       2, 4, 9, 3, 7, 6, 2, 3, 3, 1, 6, 9, 3, 6, 3, 3, 2, 0, 7, 6, 1, 1,\n",
       "       9, 7, 2, 7, 8, 5, 5, 7, 5, 3, 3, 7, 2, 7, 5, 5, 7, 0, 9, 1, 6, 5,\n",
       "       9, 7, 4, 3, 8, 0, 3, 6, 4, 6, 3, 2, 6, 8, 8, 8, 4, 6, 7, 5, 2, 4,\n",
       "       5, 3, 2, 4, 6, 9, 4, 5, 4, 3, 4, 6, 2, 9, 0, 6, 7, 2, 0, 9, 6, 0,\n",
       "       4, 2, 0, 7, 8, 8, 5, 4, 8, 2, 8, 4, 3, 7, 2, 6, 9, 1, 5, 1, 0, 8,\n",
       "       2, 8, 9, 5, 6, 2, 2, 7, 2, 1, 5, 1, 6, 4, 5, 0, 9, 4, 1, 1, 7, 0,\n",
       "       8, 9, 0, 5, 4, 3, 8, 8, 6, 5, 3, 4, 4, 4, 8, 8, 7, 0, 9, 6, 3, 5,\n",
       "       2, 3, 0, 8, 2, 3, 1, 3, 3, 0, 0, 4, 6, 0, 7, 7, 6, 2, 0, 4, 4, 2,\n",
       "       3, 7, 1, 9, 8, 6, 8, 5, 6, 2, 2, 3, 1, 7, 7, 8, 0, 9, 3, 2, 6, 5,\n",
       "       5, 9, 1, 3, 7, 0, 0, 3, 0, 4, 5, 9, 3, 3, 4, 3, 1, 8, 9, 8, 3, 6,\n",
       "       3, 1, 6, 2, 1, 7, 5, 5, 1, 9])"
      ]
     },
     "execution_count": 16,
     "metadata": {},
     "output_type": "execute_result"
    }
   ],
   "source": [
    "# prediction = log_reg.predict(X_test_scaled)\n",
    "prediction = log_reg.predict(X_test)\n",
    "prediction"
   ]
  },
  {
   "cell_type": "code",
   "execution_count": 17,
   "metadata": {},
   "outputs": [],
   "source": [
    "from sklearn.metrics import confusion_matrix"
   ]
  },
  {
   "cell_type": "code",
   "execution_count": 18,
   "metadata": {},
   "outputs": [
    {
     "data": {
      "text/plain": [
       "array([[37,  0,  0,  0,  0,  0,  0,  0,  0,  0],\n",
       "       [ 0, 39,  0,  0,  0,  1,  0,  1,  3,  0],\n",
       "       [ 0,  0, 41,  1,  0,  0,  0,  0,  1,  0],\n",
       "       [ 0,  0,  3, 43,  0,  0,  0,  1,  0,  1],\n",
       "       [ 0,  0,  0,  0, 38,  0,  0,  1,  0,  0],\n",
       "       [ 0,  0,  0,  0,  0, 47,  0,  0,  0,  1],\n",
       "       [ 0,  2,  0,  0,  0,  0, 52,  0,  0,  0],\n",
       "       [ 0,  0,  0,  0,  0,  0,  0, 45,  0,  0],\n",
       "       [ 0,  2,  0,  0,  0,  0,  0,  0, 43,  1],\n",
       "       [ 0,  0,  0,  1,  0,  0,  0,  0,  1, 44]])"
      ]
     },
     "execution_count": 18,
     "metadata": {},
     "output_type": "execute_result"
    }
   ],
   "source": [
    "confusion = confusion_matrix(prediction, y_test)\n",
    "confusion"
   ]
  },
  {
   "cell_type": "code",
   "execution_count": 19,
   "metadata": {},
   "outputs": [
    {
     "data": {
      "text/plain": [
       "0.9533333333333334"
      ]
     },
     "execution_count": 19,
     "metadata": {},
     "output_type": "execute_result"
    }
   ],
   "source": [
    "# log_reg.score(X_test_scaled, y_test)\n",
    "log_reg.score(X_test, y_test)"
   ]
  }
 ],
 "metadata": {
  "kernelspec": {
   "display_name": "Python 3",
   "language": "python",
   "name": "python3"
  },
  "language_info": {
   "codemirror_mode": {
    "name": "ipython",
    "version": 3
   },
   "file_extension": ".py",
   "mimetype": "text/x-python",
   "name": "python",
   "nbconvert_exporter": "python",
   "pygments_lexer": "ipython3",
   "version": "3.7.3"
  }
 },
 "nbformat": 4,
 "nbformat_minor": 2
}
